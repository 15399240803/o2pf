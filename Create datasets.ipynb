{
 "cells": [
  {
   "cell_type": "code",
   "execution_count": 3,
   "metadata": {},
   "outputs": [],
   "source": [
    "import numpy as np\n",
    "from sklearn.preprocessing import StandardScaler\n",
    "import os"
   ]
  },
  {
   "cell_type": "code",
   "execution_count": 4,
   "metadata": {},
   "outputs": [],
   "source": [
    "def loadData(dataset):\n",
    "    \n",
    "    if dataset=='breast-cancer-wisconsin':\n",
    "        X = np.loadtxt('data/breast-cancer-wisconsin.csv',delimiter=',', skiprows=1)\n",
    "        ds = 'original'\n",
    "    elif dataset=='diagnostic':\n",
    "        X = np.loadtxt('data/wdbc.csv',delimiter=',', skiprows=1)\n",
    "        ds = 'diagnostic'\n",
    "    elif dataset=='prognostic':\n",
    "        X = np.loadtxt('data/wpbc.csv',delimiter=',', skiprows=1)\n",
    "        ds = 'prognostic'     \n",
    "    else:\n",
    "        X = np.loadtxt('data/{}.csv'.format(dataset),delimiter=',', skiprows=1)\n",
    "        ds = dataset\n",
    "        \n",
    "        \n",
    "        \n",
    "    scaler = StandardScaler()\n",
    "    scaler.fit(X[:,:-1])\n",
    "    \n",
    "    X[:,:-1] = scaler.transform(X[:,:-1])\n",
    "    X[:,-1] =  X[:,-1]+1\n",
    "    fmt = '%.5f,'*(len(X[0])-1)+'%.d'\n",
    "        \n",
    "    return X, ds, fmt"
   ]
  },
  {
   "cell_type": "code",
   "execution_count": 7,
   "metadata": {},
   "outputs": [],
   "source": [
    "datasets = ['breast-cancer-wisconsin','diagnostic','prognostic', 'messidor','cervical_cancer','mammographic']\n",
    "\n",
    "for dt in datasets:\n",
    "    X, ds, fmt = loadData(dt)\n",
    "    for i in range(20):\n",
    "        newSet = X\n",
    "        np.random.shuffle(newSet)\n",
    "\n",
    "        lim_train = int(len(newSet)*0.7)\n",
    "        lim_validation= int(len(newSet)*0.85)\n",
    "\n",
    "        x_train = newSet[:lim_train,:]\n",
    "        x_valid = newSet[lim_train:lim_validation,:]\n",
    "        x_test = newSet[lim_validation:,:]\n",
    "\n",
    "        path = 'data/{}/{}'.format(ds,str(i+1))\n",
    "        if not os.path.exists(path):\n",
    "            os.makedirs(path)\n",
    "\n",
    "        np.savetxt('{}/train.txt'.format(path),x_train,  fmt=fmt)\n",
    "        np.savetxt('{}/valid.txt'.format(path),x_valid,  fmt=fmt)\n",
    "        np.savetxt('{}/test.txt'.format(path),x_test, fmt=fmt)"
   ]
  }
 ],
 "metadata": {
  "kernelspec": {
   "display_name": "Python 3",
   "language": "python",
   "name": "python3"
  },
  "language_info": {
   "codemirror_mode": {
    "name": "ipython",
    "version": 3
   },
   "file_extension": ".py",
   "mimetype": "text/x-python",
   "name": "python",
   "nbconvert_exporter": "python",
   "pygments_lexer": "ipython3",
   "version": "3.7.6"
  }
 },
 "nbformat": 4,
 "nbformat_minor": 4
}

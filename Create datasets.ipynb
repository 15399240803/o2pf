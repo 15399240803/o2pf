{
 "cells": [
  {
   "cell_type": "code",
   "execution_count": 3,
   "metadata": {},
   "outputs": [],
   "source": [
    "import numpy as np\n",
    "from sklearn.preprocessing import StandardScaler"
   ]
  },
  {
   "cell_type": "code",
   "execution_count": 4,
   "metadata": {},
   "outputs": [],
   "source": [
    "def loadData(dataset):\n",
    "    \n",
    "    if dataset=='breast-cancer-wisconsin':\n",
    "        X = np.loadtxt('data/breast-cancer-wisconsin.csv',delimiter=',', skiprows=1)\n",
    "        ds = 'original'\n",
    "    elif dataset=='diagnostic':\n",
    "        X = np.loadtxt('data/wdbc.csv',delimiter=',', skiprows=1)\n",
    "        ds = 'diagnostic'\n",
    "    elif dataset=='prognostic':\n",
    "        X = np.loadtxt('data/wpbc.csv',delimiter=',', skiprows=1)\n",
    "        ds = 'prognostic'     \n",
    "    else:\n",
    "        X = np.loadtxt('data/{}.csv'.format(dataset),delimiter=',', skiprows=1)\n",
    "        ds = dataset\n",
    "        \n",
    "        \n",
    "        \n",
    "    scaler = StandardScaler()\n",
    "    scaler.fit(X[:,:-1])\n",
    "    \n",
    "    X[:,:-1] = scaler.transform(X[:,:-1])\n",
    "    X[:,-1] =  X[:,-1]+1\n",
    "    fmt = '%.5f,'*(len(X[0])-1)+'%.d'\n",
    "        \n",
    "    return X, ds, fmt"
   ]
  },
  {
   "cell_type": "code",
   "execution_count": 7,
   "metadata": {},
   "outputs": [],
   "source": [
    "datasets = ['breast-cancer-wisconsin','diagnostic','prognostic', 'messidor','cervical_cancer','mammographic']\n",
    "\n",
    "for dt in datasets:\n",
    "    X, ds, fmt = loadData(dt)\n",
    "    for i in range(20):\n",
    "        newSet = X\n",
    "        np.random.shuffle(newSet)\n",
    "\n",
    "        lim_train = int(len(newSet)*0.7)\n",
    "        lim_validation= int(len(newSet)*0.85)\n",
    "\n",
    "        x_train = newSet[:lim_train,:]\n",
    "        x_valid = newSet[lim_train:lim_validation,:]\n",
    "        x_test = newSet[lim_validation:,:]\n",
    "\n",
    "        np.savetxt('data/{}/{}/train.txt'.format(ds,str(i+1)),x_train,  fmt=fmt)\n",
    "        np.savetxt('data/{}/{}/valid.txt'.format(ds,str(i+1)),x_valid,  fmt=fmt)\n",
    "        np.savetxt('data/{}/{}/test.txt'.format(ds,str(i+1)),x_test, fmt=fmt)"
   ]
  },
  {
   "cell_type": "code",
   "execution_count": 22,
   "metadata": {},
   "outputs": [
    {
     "name": "stdout",
     "output_type": "stream",
     "text": [
      "[8.598e+00 2.098e+01 5.466e+01 2.218e+02 1.243e-01 8.963e-02 3.000e-02\n",
      " 9.259e-03 1.828e-01 6.757e-02 3.582e-01 2.067e+00 2.493e+00 1.839e+01\n",
      " 1.193e-02 3.162e-02 3.000e-02 9.259e-03 3.357e-02 3.048e-03 9.565e+00\n",
      " 2.704e+01 6.206e+01 2.739e+02 1.639e-01 1.698e-01 9.001e-02 2.778e-02\n",
      " 2.972e-01 7.712e-02 0.000e+00]\n"
     ]
    }
   ],
   "source": [
    "X = np.loadtxt('wdbc.csv',delimiter=',', skiprows=1)\n",
    "np.set_printoptions(threshold=9999999)\n",
    "print(X[60])"
   ]
  }
 ],
 "metadata": {
  "kernelspec": {
   "display_name": "Python 3",
   "language": "python",
   "name": "python3"
  },
  "language_info": {
   "codemirror_mode": {
    "name": "ipython",
    "version": 3
   },
   "file_extension": ".py",
   "mimetype": "text/x-python",
   "name": "python",
   "nbconvert_exporter": "python",
   "pygments_lexer": "ipython3",
   "version": "3.7.6"
  }
 },
 "nbformat": 4,
 "nbformat_minor": 4
}

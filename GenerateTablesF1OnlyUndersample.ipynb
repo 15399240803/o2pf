{
 "cells": [
  {
   "cell_type": "code",
   "execution_count": 1,
   "metadata": {},
   "outputs": [
    {
     "name": "stdout",
     "output_type": "stream",
     "text": [
      "Automatically created module for IPython interactive environment\n"
     ]
    }
   ],
   "source": [
    "print(__doc__)\n",
    "import sys\n",
    "import numpy as np\n",
    "from print_table import PT"
   ]
  },
  {
   "cell_type": "code",
   "execution_count": 2,
   "metadata": {},
   "outputs": [],
   "source": [
    "#datasets = [ '1069_5gt','1069_7gt','1086_5ge','1086_7ge','1143_5gte','1143_7gte']\n",
    "#alias_Dataset = ['1069\\_5gt','1069\\_7gt','1086\\_5ge','1086\\_7ge','1143\\_5gte','1143\\_7gte']\n",
    "datasets = [ 'diagnostic','original','prognostic','messidor','cervical_cancer','mammographic']\n",
    "alias_Dataset = ['Diagnostic','Diagnostic II','Prognostic','DDR','CC','MM']\n",
    "\n",
    "algorithms = ['down_major_negative','down_major_neutral','down_negative','down_negatives_major_zero','down_balance','CNN','NearMiss-1','NearMiss-2','NearMiss-3']\n",
    "alias_algorithms = ['OPF-US1','OPF-US2','OPF-US3','OPF-US4','OPF-US-Full','CNN','NearMiss-1','NearMiss-2','NearMiss-3']\n",
    "\n",
    "\n",
    "percentOPF = [ '1.0']\n",
    "percentSMOTE= [ '1']\n",
    "percentLabel = ['1.00']"
   ]
  },
  {
   "cell_type": "code",
   "execution_count": 5,
   "metadata": {},
   "outputs": [],
   "source": [
    "def impressao(valores,matrizWilcoxon):\n",
    "    output= open('table_UndersampleF1_medical.txt', \"w\")\n",
    "\n",
    "    imprimir =''\n",
    "\n",
    "    imprimir = imprimir + str('\\\\begin{table*}[!htb]\\n')\n",
    "    imprimir = imprimir + str('\\\\caption{{Undersampling results considering medical datasets over F1.}}\\n')\n",
    "    imprimir = imprimir + str('\\\\begin{center}\\n')\n",
    "    imprimir = imprimir + str('\\\\renewcommand{\\\\arraystretch}{1.5}\\n')\n",
    "    imprimir = imprimir + str('\\\\setlength{\\\\tabcolsep}{6pt}\\n')\n",
    "    imprimir = imprimir + str('\\\\resizebox{\\\\textwidth}{!}{\\n')\n",
    "    imprimir = imprimir + str.replace(str(' '.join(['\\\\begin{tabular}{c|'] + ['c|']*int(len(algorithms)-1)) + 'c}\\n'),' ','')\n",
    "    imprimir = imprimir + str.replace(str(' '.join(['\\\\hhline{-|'] + ['-|']*int(len(algorithms))) + '}\\n'),' ','')\n",
    "    imprimir = imprimir + str.replace(str(' '.join(['\\\\hhline{-|'] + ['-|']*int(len(algorithms))) + '}\\n'),' ','')\n",
    "    imprimir = imprimir + str.replace(str(' '.join(['\\\\hhline{-|'] + ['-|']*int(len(algorithms))) + '}\\n'),' ','')\n",
    "\n",
    "    headers = '{\\cellcolor[HTML]{EFEFEF}{\\\\textbf{Dataset}}} ' \n",
    "    for ds in range(len(datasets)):\n",
    "        for p in range(len(percentLabel)):\n",
    "\n",
    "            f1 =  alias_Dataset[ds]\n",
    "\n",
    "            best_k = '&  Best $k$'\n",
    "\n",
    "            for alg in range(len(algorithms)):\n",
    "                headers = headers +' & {{\\cellcolor[HTML]{{EFEFEF}}{{\\\\textbf{{{}}}}}}}'.format(alias_algorithms[alg])\n",
    "                if matrizWilcoxon[ds,alg,p]==1:\n",
    "                    f1 =         f1 + str(' & $\\\\bm{{{0:.4f}\\pm{1:.4f}}}$'.format(valores[ds,alg,p,6],valores[ds,alg,p,7]))\n",
    "\n",
    "                else:\n",
    "                    f1 =        f1 + str(' & ${0:.4f}\\pm{1:.4f}$'.format(valores[ds,alg,p,6],valores[ds,alg,p,7]))\n",
    "\n",
    "            headers = headers + str('\\\\\\\\ \\\\hline\\n')\n",
    "\n",
    "\n",
    "            if ds <= len(datasets)-2:\n",
    "                f1 = f1 +  str('\\\\\\\\\\\\hline\\n')\n",
    "            else:\n",
    "                f1 = f1+ str('\\\\\\\\\\n')\n",
    "\n",
    "        if ds == 0:\n",
    "            imprimir = imprimir + headers +  f1\n",
    "        else:\n",
    "            imprimir = imprimir  + f1\n",
    "            \n",
    "    imprimir = imprimir + str.replace(str(' '.join(['\\\\hhline{-|'] + ['-|']*int(len(algorithms))) + '}\\n'),' ','')\n",
    "    imprimir = imprimir + str.replace(str(' '.join(['\\\\hhline{-|'] + ['-|']*int(len(algorithms))) + '}\\n'),' ','')\n",
    "    imprimir = imprimir + str.replace(str(' '.join(['\\\\hhline{-|'] + ['-|']*int(len(algorithms))) + '}\\n'),' ','')\n",
    "    imprimir = imprimir + str('\\\\end{tabular}}\\n')\n",
    "    imprimir = imprimir + str('\\\\label{{t.results_UndersampleF1_medical}}\\n')\n",
    "    imprimir = imprimir + str('\\\\end{center}\\n')\n",
    "    imprimir = imprimir + str('\\\\end{table*}\\n')\n",
    "\n",
    "    output.write(imprimir)"
   ]
  },
  {
   "cell_type": "code",
   "execution_count": 7,
   "metadata": {},
   "outputs": [],
   "source": [
    "pt = PT(datasets,algorithms,percentOPF,percentSMOTE,percentLabel,'ResultsMedicina')\n",
    "\n",
    "matrizValores= np.zeros((len(datasets),len(algorithms),len(percentLabel),8))\n",
    "matrizWilcoxon= np.zeros((len(datasets),len(algorithms),len(percentLabel)))\n",
    "\n",
    "for dt in range(len(datasets)):\n",
    "    matrizValores[dt,:,:,:] = pt.calcularValores(dt)\n",
    "    for p in range(len(percentLabel)):\n",
    "        matrizWilcoxon[dt,:,p] = pt.calcularWilcoxon(dt,p,matrizValores[dt,:,p,6],index_metric=3)\n",
    "\n",
    "impressao(matrizValores, matrizWilcoxon)"
   ]
  },
  {
   "cell_type": "code",
   "execution_count": null,
   "metadata": {},
   "outputs": [],
   "source": []
  }
 ],
 "metadata": {
  "kernelspec": {
   "display_name": "Python 3",
   "language": "python",
   "name": "python3"
  },
  "language_info": {
   "codemirror_mode": {
    "name": "ipython",
    "version": 3
   },
   "file_extension": ".py",
   "mimetype": "text/x-python",
   "name": "python",
   "nbconvert_exporter": "python",
   "pygments_lexer": "ipython3",
   "version": "3.7.6"
  }
 },
 "nbformat": 4,
 "nbformat_minor": 4
}

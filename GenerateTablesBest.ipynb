{
 "cells": [
  {
   "cell_type": "code",
   "execution_count": 1,
   "metadata": {},
   "outputs": [
    {
     "name": "stdout",
     "output_type": "stream",
     "text": [
      "Automatically created module for IPython interactive environment\n"
     ]
    }
   ],
   "source": [
    "print(__doc__)\n",
    "import sys\n",
    "import numpy as np\n",
    "from print_table import PT"
   ]
  },
  {
   "cell_type": "code",
   "execution_count": 2,
   "metadata": {},
   "outputs": [],
   "source": [
    "def impressao(valores,matrizWilcoxon):\n",
    "    output= open('table_medical_best.txt', \"w\")\n",
    "\n",
    "    imprimir =''\n",
    "\n",
    "    imprimir = imprimir + str('\\\\begin{table*}[!htb]\\n')\n",
    "    imprimir = imprimir + str('\\\\caption{{Results concerning the best results over oversampling and undersampling techniques, as well as combined versions, considering statistical similarities over the medical datasets.}}\\n')\n",
    "    imprimir = imprimir + str('\\\\begin{center}\\n')\n",
    "    imprimir = imprimir + str('\\\\renewcommand{\\\\arraystretch}{1.5}\\n')\n",
    "    imprimir = imprimir + str('\\\\setlength{\\\\tabcolsep}{6pt}\\n')\n",
    "    imprimir = imprimir + str('\\\\resizebox{\\\\textwidth}{!}{\\n')\n",
    "    imprimir = imprimir + str.replace(str(' '.join(['\\\\begin{tabular}{c|c|'] + ['c|']*int(len(algorithms)-1)) + 'c}\\n'),' ','')\n",
    "    imprimir = imprimir + str.replace(str(' '.join(['\\\\hhline{-|-|'] + ['-|']*int(len(algorithms))) + '}\\n'),' ','')\n",
    "    imprimir = imprimir + str.replace(str(' '.join(['\\\\hhline{-|-|'] + ['-|']*int(len(algorithms))) + '}\\n'),' ','')\n",
    "    imprimir = imprimir + str.replace(str(' '.join(['\\\\hhline{-|-|'] + ['-|']*int(len(algorithms))) + '}\\n'),' ','')\n",
    "\n",
    "\n",
    "    headers = '{\\cellcolor[HTML]{EFEFEF}{\\\\textbf{Dataset}}} & {\\cellcolor[HTML]{EFEFEF}{\\\\textbf{Statistics}}}' \n",
    "    for ds in range(len(datasets)):\n",
    "        for p in range(len(percentLabel)):\n",
    "\n",
    "            f1 =  '\\\\multirow{{4}}{{*}}{{{}}} & F1'.format(alias_Dataset[ds])\n",
    "            accuracy = '&  Accuracy'\n",
    "            recall =  '&  Recall'\n",
    "            best_k = '&  Best $k$'\n",
    "\n",
    "            for alg in range(len(algorithms)):\n",
    "                headers = headers +' & {{\\cellcolor[HTML]{{EFEFEF}}{{\\\\textbf{{{}}}}}}}'.format(alias_algorithms[alg])\n",
    "                if matrizWilcoxon[ds,alg,p]==1:\n",
    "                    f1 =         f1 + str(' & $\\\\bm{{{0:.4f}\\pm{1:.4f}}}$'.format(valores[ds,alg,p,6],valores[ds,alg,p,7]))\n",
    "                else:\n",
    "                    f1 =        f1 + str(' & ${0:.4f}\\pm{1:.4f}$'.format(valores[ds,alg,p,6],valores[ds,alg,p,7]))\n",
    "\n",
    "                accuracy = accuracy + str(' & ${0:.4f}\\pm{1:.4f}$'.format(valores[ds,alg,p,2],valores[ds,alg,p,3]))\n",
    "\n",
    "                recall =recall + str(' & ${0:.4f}\\pm{1:.4f}$'.format(valores[ds,alg,p,4],valores[ds,alg,p,5]))\n",
    "                best_k =best_k+ str(' & ${0:.4f}\\pm{1:.4f}$'.format(valores[ds,alg,p,0],valores[ds,alg,p,1]))\n",
    "\n",
    "\n",
    "            headers = headers + str('\\\\\\\\ \\\\hline\\n')\n",
    "\n",
    "            recall = recall + str('\\\\\\\\\\n')\n",
    "\n",
    "\n",
    "            accuracy = accuracy +  str('\\\\\\\\\\n')\n",
    "            f1 = f1 +  str('\\\\\\\\\\n')\n",
    "\n",
    "            if ds <= len(datasets)-2:\n",
    "                best_k =best_k+ str('\\\\\\\\\\\\hline\\\\hline\\n')\n",
    "            else:\n",
    "                best_k =best_k+ str('\\\\\\\\\\n')\n",
    "\n",
    "\n",
    "        if ds == 0:\n",
    "            imprimir = imprimir + headers  + f1+ recall +  accuracy+best_k\n",
    "        else:\n",
    "            imprimir = imprimir  + f1+ recall +  accuracy +best_k\n",
    "    imprimir = imprimir + str.replace(str(' '.join(['\\\\hhline{-|-|'] + ['-|']*int(len(algorithms))) + '}\\n'),' ','')\n",
    "    imprimir = imprimir + str.replace(str(' '.join(['\\\\hhline{-|-|'] + ['-|']*int(len(algorithms))) + '}\\n'),' ','')\n",
    "    imprimir = imprimir + str.replace(str(' '.join(['\\\\hhline{-|-|'] + ['-|']*int(len(algorithms))) + '}\\n'),' ','')\n",
    "    imprimir = imprimir + str('\\\\end{tabular}}\\n')\n",
    "    imprimir = imprimir + str('\\\\label{{t.results_medical_best}}\\n')\n",
    "    imprimir = imprimir + str('\\\\end{center}\\n')\n",
    "    imprimir = imprimir + str('\\\\end{table*}\\n')\n",
    "\n",
    "    output.write(imprimir)"
   ]
  },
  {
   "cell_type": "code",
   "execution_count": 6,
   "metadata": {},
   "outputs": [],
   "source": [
    "#datasets = [ '1069_5gt','1069_7gt','1086_5ge','1086_7ge','1143_5gte','1143_7gte']\n",
    "#alias_Dataset = ['1069\\_5gt','1069\\_7gt','1086\\_5ge','1086\\_7ge','1143\\_5gte','1143\\_7gte']\n",
    "datasets = [ 'diagnostic','original','prognostic','messidor','cervical_cancer','mammographic']\n",
    "alias_Dataset = ['Diagnostic','Diagnostic II','Prognostic','DDR','CC','MM']\n",
    "\n",
    "algorithms = ['ORIGINAL','OPF','mean_mahalanobis','proto_interp','down_major_neutral','down_balance','OVER_DOWN_major_negative','OVER_DOWN_major_neutral','OVER_DOWN_negative','OVER_DOWN_negatives_major_zero']\n",
    "alias_algorithms = ['Original','$\\\\text{{O}}^2$PF','Mean Mahalanobis.','Proto. Interp.','OPF-US2','OPF-US-Full','DS1 - $\\\\text{{O}}^2$PF','DS2 - $\\\\text{{O}}^2$PF','DS3 - $\\\\text{{O}}^2$PF','DS4 - $\\\\text{{O}}^2$PF']\n",
    "\n",
    "\n",
    "percentOPF = [ '1.0']\n",
    "percentSMOTE= [ '1']\n",
    "percentLabel = ['1.00']\n"
   ]
  },
  {
   "cell_type": "code",
   "execution_count": 8,
   "metadata": {},
   "outputs": [],
   "source": [
    "pt = PT(datasets,algorithms,percentOPF,percentSMOTE,percentLabel,'ResultsMedicina')\n",
    "\n",
    "matrizValores= np.zeros((len(datasets),len(algorithms),len(percentLabel),8))\n",
    "matrizWilcoxon= np.zeros((len(datasets),len(algorithms),len(percentLabel)))\n",
    "\n",
    "for dt in range(len(datasets)):\n",
    "    matrizValores[dt,:,:,:] = pt.calcularValores(dt)\n",
    "    for p in range(len(percentLabel)):\n",
    "        matrizWilcoxon[dt,:,p] = pt.calcularWilcoxon(dt,p,matrizValores[dt,:,p,6],index_metric=3)\n",
    "\n",
    "impressao(matrizValores, matrizWilcoxon)"
   ]
  },
  {
   "cell_type": "code",
   "execution_count": null,
   "metadata": {},
   "outputs": [],
   "source": []
  }
 ],
 "metadata": {
  "kernelspec": {
   "display_name": "Python 3",
   "language": "python",
   "name": "python3"
  },
  "language_info": {
   "codemirror_mode": {
    "name": "ipython",
    "version": 3
   },
   "file_extension": ".py",
   "mimetype": "text/x-python",
   "name": "python",
   "nbconvert_exporter": "python",
   "pygments_lexer": "ipython3",
   "version": "3.7.6"
  }
 },
 "nbformat": 4,
 "nbformat_minor": 4
}

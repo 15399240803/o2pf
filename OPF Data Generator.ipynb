{
 "cells": [
  {
   "cell_type": "code",
   "execution_count": 1,
   "metadata": {},
   "outputs": [],
   "source": [
    "import numpy as np\n",
    "from opfython.models.unsupervised import UnsupervisedOPF\n",
    "from opfython.models.supervised import SupervisedOPF\n",
    "from O2PF_oversampling import O2PF\n",
    "\n",
    "import sys\n",
    "import logging\n",
    "logging.disable(sys.maxsize)"
   ]
  },
  {
   "cell_type": "markdown",
   "metadata": {},
   "source": [
    " # Configurações"
   ]
  },
  {
   "cell_type": "code",
   "execution_count": 2,
   "metadata": {},
   "outputs": [],
   "source": [
    "#datasets = ['indian_liver','secom','seismic_bumps', 'spam','vertebral_column','wilt']\n",
    "datasets = [ 'vertebral_column','wilt']\n",
    "folds = np.arange(1,21)\n",
    "\n",
    "percents = [1.0]\n",
    "k_max = [5,10,20,30,40,50]\n",
    "o2pf = O2PF('ResultsGeneral')"
   ]
  },
  {
   "cell_type": "markdown",
   "metadata": {},
   "source": [
    "# Validação"
   ]
  },
  {
   "cell_type": "code",
   "execution_count": 3,
   "metadata": {
    "scrolled": false
   },
   "outputs": [
    {
     "name": "stdout",
     "output_type": "stream",
     "text": [
      "vertebral_column\n",
      "wilt\n"
     ]
    }
   ],
   "source": [
    "for dsds in range(len(datasets)):\n",
    "    ds = datasets[dsds]\n",
    "    print(ds)\n",
    "    for ff in range(len(folds)): \n",
    "        f = folds[ff]\n",
    "        o2pf.run(ds, f, percents,k_max,2)\n"
   ]
  }
 ],
 "metadata": {
  "kernelspec": {
   "display_name": "Python 3",
   "language": "python",
   "name": "python3"
  },
  "language_info": {
   "codemirror_mode": {
    "name": "ipython",
    "version": 3
   },
   "file_extension": ".py",
   "mimetype": "text/x-python",
   "name": "python",
   "nbconvert_exporter": "python",
   "pygments_lexer": "ipython3",
   "version": "3.7.6"
  }
 },
 "nbformat": 4,
 "nbformat_minor": 4
}
